{
 "cells": [
  {
   "cell_type": "code",
   "execution_count": 12,
   "id": "6c05df95",
   "metadata": {},
   "outputs": [],
   "source": [
    "from PIL import Image, ExifTags\n",
    "import base64\n",
    "from pathlib import Path\n",
    "import os\n",
    "from io import BytesIO"
   ]
  },
  {
   "cell_type": "code",
   "execution_count": 13,
   "id": "0e9c5995",
   "metadata": {},
   "outputs": [],
   "source": [
    "image_path = Path(os.getcwd())/'ExampleImages/20221106_140301.jpg'"
   ]
  },
  {
   "cell_type": "code",
   "execution_count": 14,
   "id": "4ef2946a",
   "metadata": {},
   "outputs": [],
   "source": [
    "def load_file_directly(file_path):\n",
    "    with open(file_path, \"rb\") as img_file:\n",
    "        b64_string = base64.b64encode(img_file.read()).decode('utf-8')\n",
    "    return b64_string"
   ]
  },
  {
   "cell_type": "code",
   "execution_count": 15,
   "id": "0dd12c56",
   "metadata": {},
   "outputs": [
    {
     "name": "stdout",
     "output_type": "stream",
     "text": [
      "13.7 ms ± 63.2 µs per loop (mean ± std. dev. of 7 runs, 100 loops each)\n"
     ]
    }
   ],
   "source": [
    "%timeit load_file_directly(image_path)"
   ]
  },
  {
   "cell_type": "code",
   "execution_count": 24,
   "id": "6829d876",
   "metadata": {},
   "outputs": [],
   "source": [
    "def pil_load_and_resize(file_path, target_size=1024):\n",
    "    image = Image.open(file_path)\n",
    "    exif = image._getexif()\n",
    "\n",
    "    width, height = image.size\n",
    "    max_dimension = max(width, height)\n",
    "\n",
    "    factor = 1\n",
    "    while max_dimension >= target_size:\n",
    "        factor *= 2\n",
    "        max_dimension //= 2\n",
    "\n",
    "    if factor > 1:\n",
    "        image = image.resize((width // factor, height // factor), resample=Image.LANCZOS)\n",
    "\n",
    "    for orientation in ExifTags.TAGS.keys():\n",
    "        if ExifTags.TAGS[orientation] == 'Orientation':\n",
    "            break\n",
    "\n",
    "    if exif[orientation] == 3:\n",
    "        image=image.rotate(180, expand=True)\n",
    "    elif exif[orientation] == 6:\n",
    "        image=image.rotate(270, expand=True)\n",
    "    elif exif[orientation] == 8:\n",
    "        image=image.rotate(90, expand=True)\n",
    "\n",
    "    buffered = BytesIO()\n",
    "    image.save(buffered, format=\"JPEG\")\n",
    "    return base64.b64encode(buffered.getvalue()).decode('utf-8')"
   ]
  },
  {
   "cell_type": "code",
   "execution_count": 25,
   "id": "802dc62c",
   "metadata": {},
   "outputs": [
    {
     "name": "stderr",
     "output_type": "stream",
     "text": [
      "D:\\Users\\berta\\AppData\\Local\\Temp\\ipykernel_1832\\1337952680.py:14: DeprecationWarning: LANCZOS is deprecated and will be removed in Pillow 10 (2023-07-01). Use Resampling.LANCZOS instead.\n",
      "  image = image.resize((width // factor, height // factor), resample=Image.LANCZOS)\n"
     ]
    },
    {
     "name": "stdout",
     "output_type": "stream",
     "text": [
      "249 ms ± 1.98 ms per loop (mean ± std. dev. of 7 runs, 1 loop each)\n"
     ]
    }
   ],
   "source": [
    "%timeit pil_load_and_resize(image_path)"
   ]
  },
  {
   "cell_type": "code",
   "execution_count": 26,
   "id": "c7506c5b",
   "metadata": {},
   "outputs": [],
   "source": [
    "def pil_load(file_path):\n",
    "    image = Image.open(file_path)\n",
    "    exif = image._getexif()\n",
    "\n",
    "    for orientation in ExifTags.TAGS.keys():\n",
    "        if ExifTags.TAGS[orientation] == 'Orientation':\n",
    "            break\n",
    "\n",
    "    if exif[orientation] == 3:\n",
    "        image=image.rotate(180, expand=True)\n",
    "    elif exif[orientation] == 6:\n",
    "        image=image.rotate(270, expand=True)\n",
    "    elif exif[orientation] == 8:\n",
    "        image=image.rotate(90, expand=True)\n",
    "\n",
    "    buffered = BytesIO()\n",
    "    image.save(buffered, format=\"JPEG\")\n",
    "    return base64.b64encode(buffered.getvalue()).decode('utf-8')"
   ]
  },
  {
   "cell_type": "code",
   "execution_count": 27,
   "id": "e7f183bb",
   "metadata": {},
   "outputs": [
    {
     "name": "stdout",
     "output_type": "stream",
     "text": [
      "393 ms ± 10.5 ms per loop (mean ± std. dev. of 7 runs, 1 loop each)\n"
     ]
    }
   ],
   "source": [
    "%timeit pil_load(image_path)"
   ]
  },
  {
   "cell_type": "code",
   "execution_count": 29,
   "id": "793eed49",
   "metadata": {},
   "outputs": [],
   "source": [
    "def check_max_size(file_path, target_size=1024):\n",
    "    image = Image.open(file_path)\n",
    "    exif = image._getexif()\n",
    "\n",
    "    width, height = image.size\n",
    "    max_dimension = max(width, height)\n",
    "\n",
    "    return max_dimension >= target_size"
   ]
  },
  {
   "cell_type": "code",
   "execution_count": 30,
   "id": "b72b1c64",
   "metadata": {},
   "outputs": [
    {
     "name": "stdout",
     "output_type": "stream",
     "text": [
      "846 µs ± 10.9 µs per loop (mean ± std. dev. of 7 runs, 1,000 loops each)\n"
     ]
    }
   ],
   "source": [
    "%timeit check_max_size(image_path)"
   ]
  },
  {
   "cell_type": "markdown",
   "id": "bfa2f241",
   "metadata": {},
   "source": [
    "The speed reduction of the resizing is worth it for uploading but loading images straight from PIL involves saving the image to a buffer which is slow. Saving 16 images involves 4 seconds of waiting for the resizing.\n",
    "\n",
    "It might be worth caching the resized images and that would be very fast. Encrypted images could be uploaded online and cached down-sized ones could be stored on disk.\n",
    "\n",
    "Checking the image size with PIL is very fast."
   ]
  }
 ],
 "metadata": {
  "kernelspec": {
   "display_name": "Python 3 (ipykernel)",
   "language": "python",
   "name": "python3"
  },
  "language_info": {
   "codemirror_mode": {
    "name": "ipython",
    "version": 3
   },
   "file_extension": ".py",
   "mimetype": "text/x-python",
   "name": "python",
   "nbconvert_exporter": "python",
   "pygments_lexer": "ipython3",
   "version": "3.8.5"
  },
  "toc": {
   "base_numbering": 1,
   "nav_menu": {},
   "number_sections": true,
   "sideBar": true,
   "skip_h1_title": false,
   "title_cell": "Table of Contents",
   "title_sidebar": "Contents",
   "toc_cell": false,
   "toc_position": {},
   "toc_section_display": true,
   "toc_window_display": false
  }
 },
 "nbformat": 4,
 "nbformat_minor": 5
}
